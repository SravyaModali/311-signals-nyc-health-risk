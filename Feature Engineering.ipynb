{
 "cells": [
  {
   "cell_type": "code",
   "execution_count": null,
   "id": "cf547146-c911-4b4c-a227-df158d65d23d",
   "metadata": {},
   "outputs": [],
   "source": [
    "import pandas as pd\n",
    "\n",
    "# ✅ Step 1: Load datasets\n",
    "df_311 = pd.read_csv(\"C:/Users/sravy/data/311_cleaned_datetime.csv\", low_memory=False)\n",
    "df_demo = pd.read_csv(\"C:/Users/sravy/data/ACS_DP05_total_population_cleaned.csv\")\n",
    "\n",
    "# ✅ Step 2: Clean and prepare ZIP code columns\n",
    "df_311[\"Incident Zip\"] = df_311[\"Incident Zip\"].astype(str).str.strip()\n",
    "df_demo[\"Zip\"] = df_demo[\"Zip\"].astype(str).str.strip()\n",
    "\n",
    "# ✅ Step 3: Merge 311 complaints with demographic population data\n",
    "merged_df = pd.merge(df_311, df_demo, left_on=\"Incident Zip\", right_on=\"Zip\", how=\"left\")\n",
    "\n",
    "# ✅ Step 4: Calculate complaint rate per 1,000 people\n",
    "merged_df[\"Complaints_per_1000\"] = (\n",
    "    merged_df.groupby(\"Incident Zip\")[\"Incident Zip\"].transform(\"count\") * 1000 /\n",
    "    pd.to_numeric(merged_df[\"Total_Population\"], errors=\"coerce\")\n",
    ")\n",
    "\n",
    "# ✅ Step 5: Save the merged output\n",
    "merged_df.to_csv(\"C:/Users/sravy/data/311_with_population_features.csv\", index=False)\n",
    "\n",
    "print(\"✅ Merged dataset created with population features and saved successfully.\")\n"
   ]
  }
 ],
 "metadata": {
  "kernelspec": {
   "display_name": "Python [conda env:base] *",
   "language": "python",
   "name": "conda-base-py"
  },
  "language_info": {
   "codemirror_mode": {
    "name": "ipython",
    "version": 3
   },
   "file_extension": ".py",
   "mimetype": "text/x-python",
   "name": "python",
   "nbconvert_exporter": "python",
   "pygments_lexer": "ipython3",
   "version": "3.12.7"
  }
 },
 "nbformat": 4,
 "nbformat_minor": 5
}
